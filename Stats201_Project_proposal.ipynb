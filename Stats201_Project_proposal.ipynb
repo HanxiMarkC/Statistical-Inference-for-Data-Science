{
 "cells": [
  {
   "cell_type": "markdown",
   "id": "d84e3716-8adc-48e4-9806-b7307a7640e2",
   "metadata": {},
   "source": [
    "## Project Proposal"
   ]
  },
  {
   "cell_type": "markdown",
   "id": "9318a19b-0487-47d9-a685-843c885674bd",
   "metadata": {},
   "source": [
    "#### Introduction\n",
    "Data science is an increasingly popular field as industries have recently realized the importance and value of data analysis. As such, the demand for skilled data scientists has and continues to grow. Being students in STAT 201: Introduction to Statistics for Data Science, we are interested in the salaries that data scientists might have. A 2015 data science salary survey publish by O’Reilly Media reported that the “median annual base salary … among US respondents is $104,000” (in USD). The same survey also reported that 67% of their survey respondents were from the USA and 18% were from Europe, including the United Kingdom and Ireland.\n",
    "\n",
    "While previous years’ salaries are known, we wanted to compare more recent salaries of data scientists who work at companies based in the USA versus Great Britain (GB). As the US and GB are countries with the highest number of data scientists, we decided to only compare those two. The exact question we wanted to answer is:\n",
    "\n",
    "*Are the salaries of mid-level data scientists different for those who work at companies based in the USA vs companies based in GB?*\n",
    "\n",
    "To answer this question, we will perform statistical inference on the Data Science Job Salaries data set from Kaggle, with responses coming from the website ai-jobs.net Salaries. The dataset includes variables such as the year of pay (2020 - 2022), experience level (EN Entry-level, Junior MI Mid-level, Intermediate SE Senior-level, Expert EX Executive-level, Director), salary in USD, employee's primary country of residency, country of the employer's main office or contracting branch, company size, and more.\n",
    "\n",
    "To compare salaries, we will use bootstrapping (and asymptotics?) to identify the mean and interquartile ranges for Data Scientists’ salaries of those working for USA and GB companies.\n"
   ]
  },
  {
   "cell_type": "markdown",
   "id": "2ed94126-22e3-4fe5-8b32-dd9d24bacade",
   "metadata": {},
   "source": [
    "#### Preliminary Results"
   ]
  },
  {
   "cell_type": "code",
   "execution_count": 1,
   "id": "be2b080e-68c2-446f-9f74-f33a978a9696",
   "metadata": {},
   "outputs": [
    {
     "name": "stderr",
     "output_type": "stream",
     "text": [
      "── \u001b[1mAttaching packages\u001b[22m ─────────────────────────────────────── tidyverse 1.3.0 ──\n",
      "\n",
      "\u001b[32m✔\u001b[39m \u001b[34mggplot2\u001b[39m 3.3.6     \u001b[32m✔\u001b[39m \u001b[34mpurrr  \u001b[39m 0.3.4\n",
      "\u001b[32m✔\u001b[39m \u001b[34mtibble \u001b[39m 3.1.7     \u001b[32m✔\u001b[39m \u001b[34mdplyr  \u001b[39m 1.0.9\n",
      "\u001b[32m✔\u001b[39m \u001b[34mtidyr  \u001b[39m 1.2.0     \u001b[32m✔\u001b[39m \u001b[34mstringr\u001b[39m 1.4.0\n",
      "\u001b[32m✔\u001b[39m \u001b[34mreadr  \u001b[39m 2.1.2     \u001b[32m✔\u001b[39m \u001b[34mforcats\u001b[39m 0.5.1\n",
      "\n",
      "── \u001b[1mConflicts\u001b[22m ────────────────────────────────────────── tidyverse_conflicts() ──\n",
      "\u001b[31m✖\u001b[39m \u001b[34mdplyr\u001b[39m::\u001b[32mfilter()\u001b[39m masks \u001b[34mstats\u001b[39m::filter()\n",
      "\u001b[31m✖\u001b[39m \u001b[34mdplyr\u001b[39m::\u001b[32mlag()\u001b[39m    masks \u001b[34mstats\u001b[39m::lag()\n",
      "\n"
     ]
    }
   ],
   "source": [
    "#Load these Libraries\n",
    "library(repr)\n",
    "library(tidyverse)\n",
    "library(infer)\n",
    "library(dplyr)\n",
    "library(cowplot)\n",
    "library(digest)"
   ]
  },
  {
   "cell_type": "code",
   "execution_count": 2,
   "id": "5c4b4ffd-8889-4f04-b003-1582edd64fb8",
   "metadata": {},
   "outputs": [
    {
     "name": "stderr",
     "output_type": "stream",
     "text": [
      "\u001b[1m\u001b[22mNew names:\n",
      "\u001b[36m•\u001b[39m `` -> `...1`\n",
      "\u001b[1mRows: \u001b[22m\u001b[34m607\u001b[39m \u001b[1mColumns: \u001b[22m\u001b[34m12\u001b[39m\n",
      "\u001b[36m──\u001b[39m \u001b[1mColumn specification\u001b[22m \u001b[36m────────────────────────────────────────────────────────\u001b[39m\n",
      "\u001b[1mDelimiter:\u001b[22m \",\"\n",
      "\u001b[31mchr\u001b[39m (7): experience_level, employment_type, job_title, salary_currency, empl...\n",
      "\u001b[32mdbl\u001b[39m (5): ...1, work_year, salary, salary_in_usd, remote_ratio\n",
      "\n",
      "\u001b[36mℹ\u001b[39m Use `spec()` to retrieve the full column specification for this data.\n",
      "\u001b[36mℹ\u001b[39m Specify the column types or set `show_col_types = FALSE` to quiet this message.\n"
     ]
    },
    {
     "data": {
      "text/html": [
       "<table class=\"dataframe\">\n",
       "<caption>A tibble: 6 × 3</caption>\n",
       "<thead>\n",
       "\t<tr><th scope=col>salary_in_usd</th><th scope=col>company_location</th><th scope=col>experience_level</th></tr>\n",
       "\t<tr><th scope=col>&lt;dbl&gt;</th><th scope=col>&lt;chr&gt;</th><th scope=col>&lt;chr&gt;</th></tr>\n",
       "</thead>\n",
       "<tbody>\n",
       "\t<tr><td>135000</td><td>US</td><td>MI</td></tr>\n",
       "\t<tr><td> 87000</td><td>US</td><td>MI</td></tr>\n",
       "\t<tr><td> 85000</td><td>US</td><td>MI</td></tr>\n",
       "\t<tr><td> 56000</td><td>US</td><td>MI</td></tr>\n",
       "\t<tr><td> 98000</td><td>US</td><td>MI</td></tr>\n",
       "\t<tr><td>450000</td><td>US</td><td>MI</td></tr>\n",
       "</tbody>\n",
       "</table>\n"
      ],
      "text/latex": [
       "A tibble: 6 × 3\n",
       "\\begin{tabular}{lll}\n",
       " salary\\_in\\_usd & company\\_location & experience\\_level\\\\\n",
       " <dbl> & <chr> & <chr>\\\\\n",
       "\\hline\n",
       "\t 135000 & US & MI\\\\\n",
       "\t  87000 & US & MI\\\\\n",
       "\t  85000 & US & MI\\\\\n",
       "\t  56000 & US & MI\\\\\n",
       "\t  98000 & US & MI\\\\\n",
       "\t 450000 & US & MI\\\\\n",
       "\\end{tabular}\n"
      ],
      "text/markdown": [
       "\n",
       "A tibble: 6 × 3\n",
       "\n",
       "| salary_in_usd &lt;dbl&gt; | company_location &lt;chr&gt; | experience_level &lt;chr&gt; |\n",
       "|---|---|---|\n",
       "| 135000 | US | MI |\n",
       "|  87000 | US | MI |\n",
       "|  85000 | US | MI |\n",
       "|  56000 | US | MI |\n",
       "|  98000 | US | MI |\n",
       "| 450000 | US | MI |\n",
       "\n"
      ],
      "text/plain": [
       "  salary_in_usd company_location experience_level\n",
       "1 135000        US               MI              \n",
       "2  87000        US               MI              \n",
       "3  85000        US               MI              \n",
       "4  56000        US               MI              \n",
       "5  98000        US               MI              \n",
       "6 450000        US               MI              "
      ]
     },
     "metadata": {},
     "output_type": "display_data"
    },
    {
     "data": {
      "text/html": [
       "<table class=\"dataframe\">\n",
       "<caption>A tibble: 2 × 2</caption>\n",
       "<thead>\n",
       "\t<tr><th scope=col>company_location</th><th scope=col>n</th></tr>\n",
       "\t<tr><th scope=col>&lt;chr&gt;</th><th scope=col>&lt;int&gt;</th></tr>\n",
       "</thead>\n",
       "<tbody>\n",
       "\t<tr><td>GB</td><td>30</td></tr>\n",
       "\t<tr><td>US</td><td>90</td></tr>\n",
       "</tbody>\n",
       "</table>\n"
      ],
      "text/latex": [
       "A tibble: 2 × 2\n",
       "\\begin{tabular}{ll}\n",
       " company\\_location & n\\\\\n",
       " <chr> & <int>\\\\\n",
       "\\hline\n",
       "\t GB & 30\\\\\n",
       "\t US & 90\\\\\n",
       "\\end{tabular}\n"
      ],
      "text/markdown": [
       "\n",
       "A tibble: 2 × 2\n",
       "\n",
       "| company_location &lt;chr&gt; | n &lt;int&gt; |\n",
       "|---|---|\n",
       "| GB | 30 |\n",
       "| US | 90 |\n",
       "\n"
      ],
      "text/plain": [
       "  company_location n \n",
       "1 GB               30\n",
       "2 US               90"
      ]
     },
     "metadata": {},
     "output_type": "display_data"
    }
   ],
   "source": [
    "## read dataset from web; clean and wrangle data into tidy format\n",
    "data <- read_csv(\"https://raw.githubusercontent.com/SotaUe/Stat201/main/ds_salaries.csv\") %>%\n",
    "    select(salary_in_usd, company_location, experience_level) %>%\n",
    "    filter(company_location %in% c(\"US\", \"GB\"), experience_level == \"MI\")\n",
    "head(data)\n",
    "\n",
    "count <- data %>%\n",
    "    count(company_location)\n",
    "count\n"
   ]
  },
  {
   "cell_type": "markdown",
   "id": "7ae95084-c40a-47fc-a36f-b5cb1b3167db",
   "metadata": {},
   "source": [
    "As the table above shows, the dataset includes 30 respondents working at a Great Britain company and 90 respondents working at a United States company.\n",
    "\n",
    "The following code plots a visualization of a sample from our raw data and the estimates of our parameter of interest, mean salary in USD, for those working at US and GB companies."
   ]
  },
  {
   "cell_type": "code",
   "execution_count": 3,
   "id": "72f949bd-b126-4218-a0e4-78d2ddb1493a",
   "metadata": {},
   "outputs": [
    {
     "data": {
      "text/html": [
       "<table class=\"dataframe\">\n",
       "<caption>A tibble: 1 × 2</caption>\n",
       "<thead>\n",
       "\t<tr><th scope=col>US_mean</th><th scope=col>GB_mean</th></tr>\n",
       "\t<tr><th scope=col>&lt;dbl&gt;</th><th scope=col>&lt;dbl&gt;</th></tr>\n",
       "</thead>\n",
       "<tbody>\n",
       "\t<tr><td>160356.5</td><td>83873</td></tr>\n",
       "</tbody>\n",
       "</table>\n"
      ],
      "text/latex": [
       "A tibble: 1 × 2\n",
       "\\begin{tabular}{ll}\n",
       " US\\_mean & GB\\_mean\\\\\n",
       " <dbl> & <dbl>\\\\\n",
       "\\hline\n",
       "\t 160356.5 & 83873\\\\\n",
       "\\end{tabular}\n"
      ],
      "text/markdown": [
       "\n",
       "A tibble: 1 × 2\n",
       "\n",
       "| US_mean &lt;dbl&gt; | GB_mean &lt;dbl&gt; |\n",
       "|---|---|\n",
       "| 160356.5 | 83873 |\n",
       "\n"
      ],
      "text/plain": [
       "  US_mean  GB_mean\n",
       "1 160356.5 83873  "
      ]
     },
     "metadata": {},
     "output_type": "display_data"
    },
    {
     "data": {
      "image/png": "[encoded data removed]",
      "text/plain": [
       "plot without title"
      ]
     },
     "metadata": {
      "image/png": {
       "height": 600,
       "width": 1200
      }
     },
     "output_type": "display_data"
    }
   ],
   "source": [
    "options(repr.plot.width = 20, repr.plot.height = 10, scipen = 1)\n",
    "\n",
    "set.seed(11)\n",
    "us_sample <- data %>%\n",
    "    filter(company_location == \"US\") %>%\n",
    "    rep_sample_n(20)\n",
    "\n",
    "gb_sample <- data %>%\n",
    "    filter(company_location == \"GB\") %>%\n",
    "    rep_sample_n(20)\n",
    "\n",
    "us_sample_dist <- us_sample %>%\n",
    "    ggplot(aes(x= salary_in_usd)) +\n",
    "    geom_histogram(bins=10) +\n",
    "    ggtitle(\"US salary Distribution\") +\n",
    "    xlab(\"Salary (USD)\") +\n",
    "    theme(text= element_text(size=20))\n",
    "\n",
    "gb_sample_dist <- gb_sample %>%\n",
    "    ggplot(aes(x= salary_in_usd)) +\n",
    "    geom_histogram(bins=10) +\n",
    "    ggtitle(\"GB salary Distribution\") +\n",
    "    xlab(\"Salary (USD)\") +\n",
    "    theme(text= element_text(size=20))\n",
    "\n",
    "US_mean <- us_sample %>%\n",
    "    summarize(mean_salary_in_usd = mean(salary_in_usd)) %>%\n",
    "    select(mean_salary_in_usd)%>%\n",
    "    as.numeric()\n",
    "\n",
    "GB_mean <- gb_sample %>%\n",
    "    summarize(mean_salary_in_usd = mean(salary_in_usd)) %>%\n",
    "    select(mean_salary_in_usd)%>%\n",
    "    as.numeric()\n",
    "\n",
    "table_means <- tibble(US_mean, GB_mean)\n",
    "table_means\n",
    "plot_grid(us_sample_dist, gb_sample_dist)\n"
   ]
  },
  {
   "cell_type": "markdown",
   "id": "79ad2870-4818-498b-ab46-d82b0b71e090",
   "metadata": {},
   "source": [
    "#### Methods:Plan"
   ]
  },
  {
   "cell_type": "markdown",
   "id": "7bdca58a-05e3-450f-be16-d0ac605c9fb7",
   "metadata": {},
   "source": [
    "While this report uses recent data (2020-2022) from a trustworthy source, the preliminary plots and estimates that were produced only show a small snapshot of data scientist salaries. As we do not have access to the salaries of all data scientists, we can use techniques such as bootstrapping, and potentially asymptotics, to create a better estimation of the population mean salaries. For bootstrapping, we plan to do it with 10000 repetitions and size 20. Later on, we may compare the outcomes from both the bootstrapping and asymptotics methods.\n",
    "\n",
    "The null hypothesis Ho is that the *mean salary of US companies is the same as the mean salary of GB companies.* The alternative hypothesis Ha is that the *mean salary US is different from the mean salary of GB companies.* The hypothesis test will be performed at a alpha level = 0.05 and we will find a 95% confidence interval. For scale parameter, we decide to use the interquartile range instead of sd, as our graph above is right-skewed. \n",
    "\n",
    "Our final report is expected to find differences in the average salary for data scientists in the US and GB by performing a two-tailed hypothesis test. We expect the average salary in GB will be different (lower) than that of those in the US given the information we have obtained from the internet (reference?).\n",
    "\n",
    "The impact such findings could have are if people with data science career may consider going to the US over GB in order to make more money.\n",
    "\n",
    "Follow up questions may include: What are the annual average living costs in each of these countries? How does that affect the salary of data science jobs if at all? What is the demand for data scientists in each of these countries? Will this affect the salary for data scientists?\n"
   ]
  },
  {
   "cell_type": "markdown",
   "id": "1846a61d-fb87-4f87-9917-2bc3919eeae6",
   "metadata": {},
   "source": [
    "#### References"
   ]
  },
  {
   "cell_type": "markdown",
   "id": "1f173b60-2907-4ccf-a33a-7fc7c5492a9e",
   "metadata": {},
   "source": [
    "Bhatia, R. (2022, June). Data Science Job Salaries: Salaries of Jobs in the Data Science Domain, Version 1. Retrieved July 21, 2022 from https://www.kaggle.com/datasets/ruchi798/data-science-job-salaries.\n",
    "\n",
    "King J, Magoulas R. 2015 data science salary survey. O'Reilly Media, Incorporated; 2015.\n",
    "http://www.eli.sdsu.edu/courses/fall16/cs696/2015-data-science-salary-survey.pdf\n",
    "\n",
    "Waller MA, Fawcett SE. Data science, predictive analytics, and big data: a revolution that will transform supply chain design and management. Journal of Business Logistics. 2013 Jun;34(2):77-84.\n",
    "https://onlinelibrary.wiley.com/doi/full/10.1111/jbl.12010\n"
   ]
  },
  {
   "cell_type": "code",
   "execution_count": null,
   "id": "44771e9f-d922-478e-b570-ec5f6d001c0b",
   "metadata": {},
   "outputs": [],
   "source": []
  }
 ],
 "metadata": {
  "kernelspec": {
   "display_name": "R",
   "language": "R",
   "name": "ir"
  },
  "language_info": {
   "codemirror_mode": "r",
   "file_extension": ".r",
   "mimetype": "text/x-r-source",
   "name": "R",
   "pygments_lexer": "r",
   "version": "4.0.5"
  }
 },
 "nbformat": 4,
 "nbformat_minor": 5
}
